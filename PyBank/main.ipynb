{
 "cells": [
  {
   "cell_type": "code",
   "execution_count": 3,
   "id": "571dacba-ec4f-4a6b-a681-08c313b44df2",
   "metadata": {},
   "outputs": [
    {
     "name": "stdout",
     "output_type": "stream",
     "text": [
      "Financial Analysis\n",
      "----------------------------\n",
      "Total Months: 86\n",
      "Total: $38382578\n",
      "Average  Change: $-2315.12\n",
      "Greatest Increase in Profits: Feb-2012 ($1926159)\n",
      "Greatest Decrease in Profits:: Sep-2013 ($-2196167)\n"
     ]
    }
   ],
   "source": [
    "# importing csv file\n",
    "import csv\n",
    "\n",
    "# location of csv file we are working on\n",
    "file_name = \"Resources/budget_data.csv\"\n",
    "\n",
    "# initializing values we want to calculate\n",
    "net_total_amount_of_profit_or_losses_over_the_entire_period = 0\n",
    "changes_in_profit_losses = 0\n",
    "total_changes_in_profit_losses = 0\n",
    "previous_total_decrease_in_profit_losses = 0\n",
    "previous_total_increase_in_profit_losses = 0\n",
    "total_months = 0 \n",
    "changes_in_profit_losses = 0\n",
    "\n",
    "greatest_increase_in_profits = []\n",
    "greatest_decrease_in_losses = []\n",
    "previous_row = []\n",
    "\n",
    "# function to calculate average and round it to nearest two decimal number\n",
    "def calculate_average(total, number_of_counts):\n",
    "    return round(total/number_of_counts, 2)\n",
    "\n",
    "#function to calculate changes in profit and losses based on current and previous values\n",
    "def calculate_changes_in_profit_losses(previous_value, current_value):\n",
    "    return (int(current_value[1]) - int(previous_value[1]))\n",
    "\n",
    "# reading csv file\n",
    "with open(file_name, 'r') as csvfile:\n",
    "    # creating a csv reader object\n",
    "    csvreader = csv.reader(csvfile)\n",
    "    # skip the headers\n",
    "    next(csvreader, None)\n",
    "    for row in csvreader:\n",
    "        # Index 1 in the csv file is the value that we want to sum\n",
    "        net_total_amount_of_profit_or_losses_over_the_entire_period += int(row[1])\n",
    "        # Ignoring index 0 whle calculating changes in profit\n",
    "        if total_months != 0:\n",
    "            total_changes_in_profit_losses = calculate_changes_in_profit_losses(previous_row, row)\n",
    "            changes_in_profit_losses += total_changes_in_profit_losses\n",
    "            if total_changes_in_profit_losses > previous_total_increase_in_profit_losses:\n",
    "                previous_total_increase_in_profit_losses = total_changes_in_profit_losses\n",
    "                greatest_increase_in_profits = [row[0], total_changes_in_profit_losses]\n",
    "            elif total_changes_in_profit_losses < previous_total_decrease_in_profit_losses:\n",
    "                previous_total_decrease_in_profit_losses = total_changes_in_profit_losses\n",
    "                greatest_decrease_in_losses = [row[0], total_changes_in_profit_losses]\n",
    "        # initialize the previous_row with row which will act as a current row in next loop\n",
    "        previous_row = row\n",
    "        \n",
    "\n",
    "        # increment value of total months by 1\n",
    "        total_months += 1\n",
    "        \n",
    "print(\"Financial Analysis\")\n",
    "print(\"----------------------------\")\n",
    "print(f\"Total Months: {total_months}\")\n",
    "print(f\"Total: ${net_total_amount_of_profit_or_losses_over_the_entire_period}\")\n",
    "print(f\"Average  Change: ${calculate_average(changes_in_profit_losses, total_months- 1)}\")\n",
    "print(f\"Greatest Increase in Profits: {greatest_increase_in_profits[0]} (${greatest_increase_in_profits[1]})\")\n",
    "print(f\"Greatest Decrease in Profits:: {greatest_decrease_in_losses[0]} (${greatest_decrease_in_losses[1]})\")"
   ]
  },
  {
   "cell_type": "code",
   "execution_count": null,
   "id": "3fe33539-867c-43a1-985e-66e84133452f",
   "metadata": {},
   "outputs": [],
   "source": []
  }
 ],
 "metadata": {
  "kernelspec": {
   "display_name": "Python 3 (ipykernel)",
   "language": "python",
   "name": "python3"
  },
  "language_info": {
   "codemirror_mode": {
    "name": "ipython",
    "version": 3
   },
   "file_extension": ".py",
   "mimetype": "text/x-python",
   "name": "python",
   "nbconvert_exporter": "python",
   "pygments_lexer": "ipython3",
   "version": "3.7.13"
  }
 },
 "nbformat": 4,
 "nbformat_minor": 5
}
